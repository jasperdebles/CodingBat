{
 "cells": [
  {
   "cell_type": "code",
   "execution_count": 20,
   "metadata": {},
   "outputs": [],
   "source": [
    "# Warmup-1"
   ]
  },
  {
   "cell_type": "code",
   "execution_count": 3,
   "metadata": {},
   "outputs": [],
   "source": [
    "# Given two int values, return their sum. Unless the two values are the same, then return double their sum.\n",
    "def sum_double(a,b):\n",
    "    if a == b: \n",
    "        return 2*(a+b) \n",
    "    else: \n",
    "        return a+b"
   ]
  },
  {
   "cell_type": "code",
   "execution_count": 11,
   "metadata": {},
   "outputs": [],
   "source": [
    "# Given 2 ints, a and b, return True if one if them is 10 or if their sum is 10.\n",
    "def makes10(a, b):\n",
    "    if a==10 or b==10 or a+b==10: \n",
    "        return True \n",
    "      else: \n",
    "        return False "
   ]
  },
  {
   "cell_type": "code",
   "execution_count": 17,
   "metadata": {},
   "outputs": [],
   "source": [
    "# Given an int n, return the absolute difference between n and 21, except return double the absolute difference if n is over 21.\n",
    "def diff(n):\n",
    "    if n<=21: \n",
    "        return 21-n \n",
    "    else: \n",
    "        return (n-21)*2"
   ]
  },
  {
   "cell_type": "code",
   "execution_count": 18,
   "metadata": {},
   "outputs": [],
   "source": [
    "# Given 2 int values, return True if one is negative and one is positive. Except if the parameter \"negative\" is True, then return True only if both are negative.\n",
    "def pos_neg(a, b, negative):\n",
    "    if a<0 and b>0 and negative==False: \n",
    "        return True \n",
    "    if a>0 and b<0 and negative==False: \n",
    "        return True \n",
    "    if a<0 and b<0 and negative==True: \n",
    "        return True \n",
    "    else: \n",
    "        return False"
   ]
  },
  {
   "cell_type": "code",
   "execution_count": 19,
   "metadata": {},
   "outputs": [],
   "source": [
    "# Given an int n, return True if it is within 10 of 100 or 200. Note: abs(num) computes the absolute value of a number.\n",
    "def near_hundred(n):\n",
    "    if n>=90 and n<=110: \n",
    "        return True \n",
    "    if n>=190 and n<=210: \n",
    "        return True \n",
    "    else: \n",
    "        return False "
   ]
  },
  {
   "cell_type": "code",
   "execution_count": null,
   "metadata": {},
   "outputs": [],
   "source": []
  }
 ],
 "metadata": {
  "kernelspec": {
   "display_name": "Python 3",
   "language": "python",
   "name": "python3"
  },
  "language_info": {
   "codemirror_mode": {
    "name": "ipython",
    "version": 3
   },
   "file_extension": ".py",
   "mimetype": "text/x-python",
   "name": "python",
   "nbconvert_exporter": "python",
   "pygments_lexer": "ipython3",
   "version": "3.7.3"
  }
 },
 "nbformat": 4,
 "nbformat_minor": 4
}
