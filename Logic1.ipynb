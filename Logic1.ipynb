{
 "cells": [
  {
   "cell_type": "code",
   "execution_count": 1,
   "metadata": {},
   "outputs": [],
   "source": [
    "# Logic-1 "
   ]
  },
  {
   "cell_type": "code",
   "execution_count": 3,
   "metadata": {},
   "outputs": [],
   "source": [
    "# When squirrels get together for a party, they like to have cigars. A squirrel party is successful when the number of cigars \n",
    "# is between 40 and 60, inclusive. Unless it is the weekend, in which case there is no upper bound on the number of cigars. \n",
    "# Return True if the party with the given values is successful, or False otherwise.\n",
    "def cigar_party(cigars, is_weekend):\n",
    "    if 40<=cigars<=60 and is_weekend==False: \n",
    "        return True  \n",
    "    if cigars>39 and is_weekend==True: \n",
    "        return True \n",
    "    else: \n",
    "        return False "
   ]
  },
  {
   "cell_type": "code",
   "execution_count": 4,
   "metadata": {},
   "outputs": [],
   "source": [
    "# You are driving a little too fast, and a police officer stops you. Write code to compute the result, encoded as an \n",
    "# int value: 0=no ticket, 1=small ticket, 2=big ticket. If speed is 60 or less, the result is 0. If speed is between \n",
    "# 61 and 80 inclusive, the result is 1. If speed is 81 or more, the result is 2. Unless it is your birthday -- on that day, \n",
    "# your speed can be 5 higher in all cases.\n",
    "def caught_speeding(speed, is_birthday):\n",
    "    if speed <=60 and is_birthday==False: \n",
    "        return 0 \n",
    "    if 60<speed<=80 and is_birthday==False: \n",
    "        return 1 \n",
    "    if speed>80 and is_birthday==False: \n",
    "        return 2 \n",
    "    if speed <=65 and is_birthday==True: \n",
    "        return 0 \n",
    "    if 65<speed<=85 and is_birthday==True: \n",
    "        return 1 \n",
    "    if speed>85 and is_birthday==True: \n",
    "        return 2  "
   ]
  },
  {
   "cell_type": "code",
   "execution_count": null,
   "metadata": {},
   "outputs": [],
   "source": []
  }
 ],
 "metadata": {
  "kernelspec": {
   "display_name": "Python 3",
   "language": "python",
   "name": "python3"
  },
  "language_info": {
   "codemirror_mode": {
    "name": "ipython",
    "version": 3
   },
   "file_extension": ".py",
   "mimetype": "text/x-python",
   "name": "python",
   "nbconvert_exporter": "python",
   "pygments_lexer": "ipython3",
   "version": "3.7.3"
  }
 },
 "nbformat": 4,
 "nbformat_minor": 4
}
